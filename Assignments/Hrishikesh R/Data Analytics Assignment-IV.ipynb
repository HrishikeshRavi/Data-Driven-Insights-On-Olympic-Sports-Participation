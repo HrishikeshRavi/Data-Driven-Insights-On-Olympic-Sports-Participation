{
  "nbformat": 4,
  "nbformat_minor": 0,
  "metadata": {
    "colab": {
      "provenance": []
    },
    "kernelspec": {
      "name": "python3",
      "display_name": "Python 3"
    },
    "language_info": {
      "name": "python"
    }
  },
  "cells": [
    {
      "cell_type": "code",
      "execution_count": null,
      "metadata": {
        "colab": {
          "base_uri": "https://localhost:8080/"
        },
        "id": "S_KZbUB-iqge",
        "outputId": "8d754802-fb5d-42ec-c519-13dd12faaab8"
      },
      "outputs": [
        {
          "output_type": "stream",
          "name": "stdout",
          "text": [
            "Joined List: [1, 2, 3, 4, 5, 6]\n"
          ]
        }
      ],
      "source": [
        "# Task 1\n",
        "list1 = [1, 2, 3]\n",
        "list2 = [4, 5, 6]\n",
        "list1.extend(list2)\n",
        "print(\"Joined List:\", list1)"
      ]
    },
    {
      "cell_type": "code",
      "source": [
        "# Task 2\n",
        "numbers = [1, 2, 3, 4, 5, 6, 7, 8, 9, 10]\n",
        "even_numbers = []\n",
        "for num in numbers:\n",
        "    if num % 2 == 0:\n",
        "        even_numbers.append(num)\n",
        "print(\"Even numbers:\", even_numbers)"
      ],
      "metadata": {
        "colab": {
          "base_uri": "https://localhost:8080/"
        },
        "id": "ivBgu1ytizVl",
        "outputId": "2b7c16b6-2ca9-4f03-f1e7-107054454dd6"
      },
      "execution_count": null,
      "outputs": [
        {
          "output_type": "stream",
          "name": "stdout",
          "text": [
            "Even numbers: [2, 4, 6, 8, 10]\n"
          ]
        }
      ]
    },
    {
      "cell_type": "code",
      "source": [
        "# Task 3\n",
        "student_grades = {\n",
        "    \"Alice\": [92, 88],\n",
        "    \"Bob\": [78, 84],\n",
        "    \"Charlie\": [88, 90]\n",
        "}\n",
        "alice_grades = student_grades[\"Alice\"]\n",
        "bob_grades = student_grades[\"Bob\"]\n",
        "charlie_grades = student_grades[\"Charlie\"]\n",
        "print(\"Alice's Grades:\", alice_grades)\n",
        "print(\"Bob's Grades:\", bob_grades)\n",
        "print(\"Charlie's Grades:\", charlie_grades)"
      ],
      "metadata": {
        "colab": {
          "base_uri": "https://localhost:8080/"
        },
        "id": "7l4gnzTii5Bb",
        "outputId": "c167143b-ece7-4868-f2e4-6a62c830ced6"
      },
      "execution_count": null,
      "outputs": [
        {
          "output_type": "stream",
          "name": "stdout",
          "text": [
            "Alice's Grades: [92, 88]\n",
            "Bob's Grades: [78, 84]\n",
            "Charlie's Grades: [88, 90]\n"
          ]
        }
      ]
    },
    {
      "cell_type": "code",
      "source": [
        "# Task 4\n",
        "def find_odd_numbers(numbers):\n",
        "    odd_numbers = []\n",
        "    for num in numbers:\n",
        "        if num % 2 != 0:\n",
        "            odd_numbers.append(num)\n",
        "    return odd_numbers\n",
        "numbers = [1, 2, 3, 4, 5, 6, 7, 8, 9, 10]\n",
        "odd_numbers = find_odd_numbers(numbers)\n",
        "print(\"Odd numbers:\", odd_numbers)"
      ],
      "metadata": {
        "id": "ML9oJq88i78k",
        "outputId": "fd90a906-7a82-48cb-b34c-5c6e2e4f94ee",
        "colab": {
          "base_uri": "https://localhost:8080/"
        }
      },
      "execution_count": null,
      "outputs": [
        {
          "output_type": "stream",
          "name": "stdout",
          "text": [
            "Odd numbers: [1, 3, 5, 7, 9]\n"
          ]
        }
      ]
    },
    {
      "cell_type": "code",
      "source": [
        "# Task 5\n",
        "def sum_list_numbers(numbers):\n",
        "    total = 0\n",
        "    for num in numbers:\n",
        "        total += num\n",
        "    return total\n",
        "numbers = (8, 2, 3, 0, 7)\n",
        "result = sum_list_numbers(numbers)\n",
        "print(\"Sum of numbers in the list:\", result)"
      ],
      "metadata": {
        "id": "Y-_HFkMli_JD",
        "outputId": "11c4c458-760d-4ee5-d751-0add7aeb4e27",
        "colab": {
          "base_uri": "https://localhost:8080/"
        }
      },
      "execution_count": null,
      "outputs": [
        {
          "output_type": "stream",
          "name": "stdout",
          "text": [
            "Sum of numbers in the list: 20\n"
          ]
        }
      ]
    }
  ]
}